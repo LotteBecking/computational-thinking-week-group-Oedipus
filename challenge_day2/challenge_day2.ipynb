{
 "cells": [
  {
   "attachments": {},
   "cell_type": "markdown",
   "metadata": {},
   "source": [
    "# Observation Challenge\n",
    "\n",
    "In this challenge, you have to create an algorithm based on several algorithm parts.\n",
    "\n",
    "## Stations\n",
    "Across the JK building, we have placed several stations. At each station, you can find sample inputs and their expected outputs for one of the algorithm parts.\n",
    "You must decipher the algorithm behind each station yourself.\n",
    "The locations of all the stations are listed where Lukas and Roland are sitting.\n",
    "\n",
    "# Your task\n",
    "- Create files in this directory named station1.py, station2.py, etc.\n",
    "- Each member of the team must commit (including any changes) at least one of these files.\n",
    "- Each of these files contains a function named solution_station_X(), where X is the station number, same as the file name\n",
    "- Fill out the cell below and generate the correct overall output\n",
    "- You are allowed to use all built-in Python modules, as well as numpy and pandas in your solutions."
   ]
  },
  {
   "cell_type": "code",
   "execution_count": 1,
   "metadata": {},
   "outputs": [
    {
     "ename": "AssertionError",
     "evalue": "",
     "output_type": "error",
     "traceback": [
      "\u001b[0;31m---------------------------------------------------------------------------\u001b[0m",
      "\u001b[0;31mAssertionError\u001b[0m                            Traceback (most recent call last)",
      "Cell \u001b[0;32mIn[1], line 37\u001b[0m\n\u001b[1;32m     35\u001b[0m FINAL_OUTPUT2 \u001b[38;5;241m=\u001b[39m combined_algorithm(observation2)\n\u001b[1;32m     36\u001b[0m FINAL_OUTPUT3 \u001b[38;5;241m=\u001b[39m combined_algorithm(observation3)\n\u001b[0;32m---> 37\u001b[0m tests\u001b[38;5;241m.\u001b[39mTest_Exercise(combined_algorithm)\n",
      "File \u001b[0;32m~/Documents/GitHub/computational-thinking-week-group-Oedipus/utility/edutest/edutest.py:73\u001b[0m, in \u001b[0;36mTestSuite.__init__\u001b[0;34m(self, tested_func, **kwargs)\u001b[0m\n\u001b[1;32m     71\u001b[0m \u001b[38;5;28mself\u001b[39m\u001b[38;5;241m.\u001b[39mtested_func \u001b[38;5;241m=\u001b[39m tested_func\n\u001b[1;32m     72\u001b[0m \u001b[38;5;28;01mfor\u001b[39;00m test_case \u001b[38;5;129;01min\u001b[39;00m \u001b[38;5;28mself\u001b[39m\u001b[38;5;241m.\u001b[39mtest_cases:\n\u001b[0;32m---> 73\u001b[0m     result \u001b[38;5;241m=\u001b[39m test_case(tested_func, \u001b[38;5;241m*\u001b[39m\u001b[38;5;241m*\u001b[39mkwargs)\u001b[38;5;241m.\u001b[39meval()\n\u001b[1;32m     74\u001b[0m     \u001b[38;5;28;01mif\u001b[39;00m \u001b[38;5;129;01mnot\u001b[39;00m result:\n\u001b[1;32m     75\u001b[0m         \u001b[38;5;28mself\u001b[39m\u001b[38;5;241m.\u001b[39mall_tests_passed \u001b[38;5;241m=\u001b[39m \u001b[38;5;28;01mFalse\u001b[39;00m\n",
      "File \u001b[0;32m~/Documents/GitHub/computational-thinking-week-group-Oedipus/utility/edutest/edutest.py:24\u001b[0m, in \u001b[0;36mTestCase.eval\u001b[0;34m(self)\u001b[0m\n\u001b[1;32m     22\u001b[0m \u001b[38;5;28;01mdef\u001b[39;00m \u001b[38;5;21meval\u001b[39m(\u001b[38;5;28mself\u001b[39m):\n\u001b[1;32m     23\u001b[0m \u001b[38;5;250m    \u001b[39m\u001b[38;5;124;03m\"\"\" This function runs the test(s) and then returns the result.\"\"\"\u001b[39;00m\n\u001b[0;32m---> 24\u001b[0m     \u001b[38;5;28mself\u001b[39m\u001b[38;5;241m.\u001b[39mtest()\n\u001b[1;32m     25\u001b[0m     \u001b[38;5;28;01mreturn\u001b[39;00m \u001b[38;5;28mself\u001b[39m\u001b[38;5;241m.\u001b[39mall_tests_passed\n",
      "File \u001b[0;32m~/Documents/GitHub/computational-thinking-week-group-Oedipus/challenge_day2/tests/tests.py:9\u001b[0m, in \u001b[0;36mTest_Exercise_Values.test\u001b[0;34m(self)\u001b[0m\n\u001b[1;32m      8\u001b[0m \u001b[38;5;28;01mdef\u001b[39;00m \u001b[38;5;21mtest\u001b[39m(\u001b[38;5;28mself\u001b[39m):\n\u001b[0;32m----> 9\u001b[0m     \u001b[38;5;28mself\u001b[39m\u001b[38;5;241m.\u001b[39mio_pair((\u001b[38;5;124m'\u001b[39m\u001b[38;5;124m00:01\u001b[39m\u001b[38;5;124m'\u001b[39m, \u001b[38;5;241m5\u001b[39m, \u001b[38;5;124m'\u001b[39m\u001b[38;5;124m1990-01-01\u001b[39m\u001b[38;5;124m'\u001b[39m, \u001b[38;5;241m3\u001b[39m, \u001b[38;5;241m1\u001b[39m, \u001b[38;5;124m'\u001b[39m\u001b[38;5;124mEmma\u001b[39m\u001b[38;5;124m'\u001b[39m, \u001b[38;5;241m9\u001b[39m, \u001b[38;5;124m'\u001b[39m\u001b[38;5;124ma+b\u001b[39m\u001b[38;5;124m'\u001b[39m), \u001b[38;5;241m3.5190509710811696e+16\u001b[39m)\n\u001b[1;32m     10\u001b[0m     \u001b[38;5;28mself\u001b[39m\u001b[38;5;241m.\u001b[39mio_pair((\u001b[38;5;124m'\u001b[39m\u001b[38;5;124m00:02\u001b[39m\u001b[38;5;124m'\u001b[39m, \u001b[38;5;241m6\u001b[39m, \u001b[38;5;124m'\u001b[39m\u001b[38;5;124m1990-01-02\u001b[39m\u001b[38;5;124m'\u001b[39m, \u001b[38;5;241m4\u001b[39m, \u001b[38;5;241m2\u001b[39m, \u001b[38;5;124m'\u001b[39m\u001b[38;5;124mEmma\u001b[39m\u001b[38;5;124m'\u001b[39m, \u001b[38;5;241m8\u001b[39m, \u001b[38;5;124m'\u001b[39m\u001b[38;5;124mb+c\u001b[39m\u001b[38;5;124m'\u001b[39m), \u001b[38;5;241m1.6897595679400317e+17\u001b[39m)\n\u001b[1;32m     11\u001b[0m     \u001b[38;5;28mself\u001b[39m\u001b[38;5;241m.\u001b[39mio_pair((\u001b[38;5;124m'\u001b[39m\u001b[38;5;124m00:03\u001b[39m\u001b[38;5;124m'\u001b[39m, \u001b[38;5;241m7\u001b[39m, \u001b[38;5;124m'\u001b[39m\u001b[38;5;124m1990-01-03\u001b[39m\u001b[38;5;124m'\u001b[39m, \u001b[38;5;241m5\u001b[39m, \u001b[38;5;241m3\u001b[39m, \u001b[38;5;124m'\u001b[39m\u001b[38;5;124mEmma\u001b[39m\u001b[38;5;124m'\u001b[39m, \u001b[38;5;241m7\u001b[39m, \u001b[38;5;124m'\u001b[39m\u001b[38;5;124md*e\u001b[39m\u001b[38;5;124m'\u001b[39m), \u001b[38;5;241m2.1272497207141005e+17\u001b[39m)\n",
      "File \u001b[0;32m~/Documents/GitHub/computational-thinking-week-group-Oedipus/utility/edutest/edutest.py:45\u001b[0m, in \u001b[0;36mTestCase.io_pair\u001b[0;34m(self, input, expected_output, approximate)\u001b[0m\n\u001b[1;32m     44\u001b[0m \u001b[38;5;28;01mdef\u001b[39;00m \u001b[38;5;21mio_pair\u001b[39m(\u001b[38;5;28mself\u001b[39m, \u001b[38;5;28minput\u001b[39m, expected_output, approximate\u001b[38;5;241m=\u001b[39m\u001b[38;5;28;01mFalse\u001b[39;00m):\n\u001b[0;32m---> 45\u001b[0m     real_output \u001b[38;5;241m=\u001b[39m \u001b[38;5;28mself\u001b[39m\u001b[38;5;241m.\u001b[39mtested_func(\u001b[38;5;28minput\u001b[39m)\n\u001b[1;32m     46\u001b[0m     assertion \u001b[38;5;241m=\u001b[39m TestCase\u001b[38;5;241m.\u001b[39mAssertEquals \u001b[38;5;28;01mif\u001b[39;00m \u001b[38;5;129;01mnot\u001b[39;00m approximate \u001b[38;5;28;01melse\u001b[39;00m TestCase\u001b[38;5;241m.\u001b[39mAssertEqualsApproximate\n\u001b[1;32m     47\u001b[0m     \u001b[38;5;28;01mif\u001b[39;00m assertion(real_output, expected_output):\n",
      "Cell \u001b[0;32mIn[1], line 29\u001b[0m, in \u001b[0;36mcombined_algorithm\u001b[0;34m(observations)\u001b[0m\n\u001b[1;32m     27\u001b[0m \u001b[38;5;28;01massert\u001b[39;00m \u001b[38;5;28misinstance\u001b[39m(output3, \u001b[38;5;28mbool\u001b[39m)\n\u001b[1;32m     28\u001b[0m \u001b[38;5;28;01massert\u001b[39;00m \u001b[38;5;28misinstance\u001b[39m(output4, \u001b[38;5;28mbool\u001b[39m)\n\u001b[0;32m---> 29\u001b[0m \u001b[38;5;28;01massert\u001b[39;00m \u001b[38;5;28misinstance\u001b[39m(output5, \u001b[38;5;28mint\u001b[39m)\n\u001b[1;32m     30\u001b[0m \u001b[38;5;28;01massert\u001b[39;00m \u001b[38;5;28misinstance\u001b[39m(output6, \u001b[38;5;28mfloat\u001b[39m)\n\u001b[1;32m     31\u001b[0m \u001b[38;5;28;01massert\u001b[39;00m \u001b[38;5;28misinstance\u001b[39m(output7, \u001b[38;5;28mfloat\u001b[39m)\n",
      "\u001b[0;31mAssertionError\u001b[0m: "
     ]
    }
   ],
   "source": [
    "from tests import tests\n",
    "from station1 import solution_station_1\n",
    "from station2 import solution_station_2\n",
    "from station3 import solution_station_3\n",
    "from station4 import solution_station_4\n",
    "from station5 import solution_station_5\n",
    "from station6 import solution_station_6\n",
    "from station7 import solution_station_7\n",
    "\n",
    "# List three observations of all inputs (not sample inputs) observed at the same time\n",
    "# Format: (time: str, station1_input: int, station2_input: str, station3_input: int, station4_input: int, station5_input: str, station6_input: int, station7_input: str)\n",
    "# Example: ('12:30:00', 1, '1990-01-01', 2, 3, \"John\", 4, \"e=mc^2\")\n",
    "observation1 = ('09:50:00', 95, str('2024-07-30'), 60655, 6065, \"Josy\", 60, \"e*d\")\n",
    "observation2 = ('09:50:10', 29, str('2024-03-31'), 20660, 3734, \"Calson\", 37, \"a*d\")\n",
    "observation3 = ('09:50:20', 23, str('2024-03-24'), 99452, 9945, \"Meng\", 99, \"c*a\")\n",
    "\n",
    "def combined_algorithm(observations: tuple) -> int:\n",
    "    output1 = solution_station_1(observations[1])\n",
    "    output2 = solution_station_2(observations[2])\n",
    "    output3 = solution_station_3(observations[3])\n",
    "    output4 = solution_station_4(observations[4])\n",
    "    output5 = solution_station_5(observations[5])\n",
    "    output6 = solution_station_6(observations[6])\n",
    "    output7 = solution_station_7(observations[7])\n",
    "    assert isinstance(output1, int)\n",
    "    assert isinstance(output2, str)\n",
    "    assert isinstance(output3, bool)\n",
    "    assert isinstance(output4, bool)\n",
    "    assert isinstance(output5, int)\n",
    "    assert isinstance(output6, float)\n",
    "    assert isinstance(output7, float)\n",
    "    return output1 * int.from_bytes(output2[0].encode(\"unicode_escape\"), byteorder='big') * (3 if output3 else 2) * (5 if output4 else 4) * output5 * output6 * output7\n",
    "\n",
    "FINAL_OUTPUT1 = combined_algorithm(observation1)\n",
    "FINAL_OUTPUT2 = combined_algorithm(observation2)\n",
    "FINAL_OUTPUT3 = combined_algorithm(observation3)\n",
    "tests.Test_Exercise(combined_algorithm)"
   ]
  },
  {
   "cell_type": "code",
   "execution_count": null,
   "metadata": {},
   "outputs": [],
   "source": []
  }
 ],
 "metadata": {
  "kernelspec": {
   "display_name": "Python 3.10.5 64-bit",
   "language": "python",
   "name": "python3"
  },
  "language_info": {
   "codemirror_mode": {
    "name": "ipython",
    "version": 3
   },
   "file_extension": ".py",
   "mimetype": "text/x-python",
   "name": "python",
   "nbconvert_exporter": "python",
   "pygments_lexer": "ipython3",
   "version": "3.11.5"
  },
  "orig_nbformat": 4,
  "vscode": {
   "interpreter": {
    "hash": "2f9d6cf1e3d8195079a65c851de355134a77367bcd714b1a5d498c42d3c07114"
   }
  }
 },
 "nbformat": 4,
 "nbformat_minor": 2
}
